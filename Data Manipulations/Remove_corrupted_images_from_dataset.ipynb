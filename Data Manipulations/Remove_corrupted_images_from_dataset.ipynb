{
  "nbformat": 4,
  "nbformat_minor": 0,
  "metadata": {
    "colab": {
      "name": "Remove corrupted images from dataset.ipynb",
      "version": "0.3.2",
      "provenance": [],
      "include_colab_link": true
    },
    "kernelspec": {
      "name": "python3",
      "display_name": "Python 3"
    }
  },
  "cells": [
    {
      "cell_type": "markdown",
      "metadata": {
        "id": "view-in-github",
        "colab_type": "text"
      },
      "source": [
        "<a href=\"https://colab.research.google.com/github/liorhirsch/Kaggle-Landmark-ML-Challange/blob/master/Data%20Manipulations/Remove_corrupted_images_from_dataset.ipynb\" target=\"_parent\"><img src=\"https://colab.research.google.com/assets/colab-badge.svg\" alt=\"Open In Colab\"/></a>"
      ]
    },
    {
      "metadata": {
        "id": "KPtiNB2qTJv3",
        "colab_type": "code",
        "outputId": "25e6f599-f273-4b91-f20d-bb8f3807368c",
        "colab": {
          "base_uri": "https://localhost:8080/",
          "height": 34
        }
      },
      "cell_type": "code",
      "source": [
        "from google.colab import drive\n",
        "drive.mount('/content/drive',force_remount=True)"
      ],
      "execution_count": 2,
      "outputs": [
        {
          "output_type": "stream",
          "text": [
            "Mounted at /content/drive\n"
          ],
          "name": "stdout"
        }
      ]
    },
    {
      "metadata": {
        "id": "Jqv4Yin9TWSd",
        "colab_type": "code",
        "colab": {}
      },
      "cell_type": "code",
      "source": [
        "import numpy as np\n",
        "import matplotlib.pyplot as plt\n",
        "import os\n",
        "import cv2\n",
        "from joblib import Parallel, delayed\n",
        "import multiprocessing\n",
        "from PIL import Image"
      ],
      "execution_count": 0,
      "outputs": []
    },
    {
      "metadata": {
        "id": "BToaaVCzTWlb",
        "colab_type": "code",
        "outputId": "bfe01a00-7c61-45aa-8ab5-f98d37f53614",
        "colab": {
          "base_uri": "https://localhost:8080/",
          "height": 1751
        }
      },
      "cell_type": "code",
      "source": [
        "DATADIR = \"drive/My Drive/smallDS\"\n",
        "CATEGORIES =  os.listdir(DATADIR);\n",
        "\n",
        "\n",
        "print('Found %d categories in : %s' % (len(CATEGORIES), DATADIR))\n",
        "\n",
        "# already_scanned = ['10900','10045','10577','10511','10033','10026','10005','10184','10496','10644','11249','11784','12647','12172','11536','12220','10932','12676','11371','1213','12972','12966','13471','12718','12965','13170','13444','1310','13475','13332','1472','1553','13653','152','13526','1602','13873','13594','1546','13876','165','2061','233','2145','1946','2338','1847','2044','1878','2241','2743','2870','3283','3065','2341','3130','2444','2949','3034','2449','428','3497','4644','3804','3426','3924','4352','4085','4300','4954','4987','4981','5376','5367','5206','5046','5475','5421','5166','5460','6599','6051','5554','5955','6347','5618','6476','6231','6597','6651','7041','7000','6696','6846','7092','7420','7661','7130','7172','7008']\n",
        "\n",
        "def CheckImagesInFolder(root_dir):\n",
        "    dirs = os.listdir(root_dir);\n",
        "    index = 1;\n",
        "    for currDir in dirs:\n",
        "        dir_location = os.path.join(root_dir, currDir)\n",
        "        currLandmarkId = dir_location.rsplit('/', 2)[-1]\n",
        "#         skipCurr =  currLandmarkId in already_scanned\n",
        "          \n",
        "        if os.path.isdir(dir_location): #and not skipCurr:\n",
        "            print(\"%s/%s - landmark's id : %s\" %(index, len(dirs), currDir))\n",
        "            images_in_dir = os.listdir(dir_location)\n",
        "            for curr_image in images_in_dir:\n",
        "                curr_image_path = os.path.join(dir_location, curr_image)\n",
        "                try:\n",
        "                    img = Image.open(curr_image_path)  # open the image file\n",
        "                    img.verify()  # verify that it is, in fact an image\n",
        "                except (IOError, SyntaxError) as e:\n",
        "                    print('Bad file:', curr_image_path)  # print out the names of corrupt files\n",
        "                    os.remove(curr_image_path)\n",
        "#         print(\"Done with id %s\" % currLandmarkId)\n",
        "        index += 1\n",
        "    print(\"Done.\")\n",
        "\n",
        "                                        \n",
        "CheckImagesInFolder(DATADIR)"
      ],
      "execution_count": 5,
      "outputs": [
        {
          "output_type": "stream",
          "text": [
            "Found 100 categories in : drive/My Drive/smallDS\n",
            "1/100 - landmark's id : 10900\n",
            "2/100 - landmark's id : 10045\n",
            "3/100 - landmark's id : 10577\n",
            "4/100 - landmark's id : 10511\n",
            "5/100 - landmark's id : 10033\n",
            "6/100 - landmark's id : 10026\n",
            "7/100 - landmark's id : 10005\n",
            "8/100 - landmark's id : 10184\n",
            "9/100 - landmark's id : 10496\n",
            "10/100 - landmark's id : 10644\n",
            "11/100 - landmark's id : 11249\n",
            "12/100 - landmark's id : 11784\n",
            "13/100 - landmark's id : 12647\n",
            "14/100 - landmark's id : 12172\n",
            "15/100 - landmark's id : 11536\n",
            "16/100 - landmark's id : 12220\n",
            "17/100 - landmark's id : 10932\n",
            "18/100 - landmark's id : 12676\n",
            "19/100 - landmark's id : 11371\n",
            "20/100 - landmark's id : 1213\n",
            "21/100 - landmark's id : 12972\n",
            "22/100 - landmark's id : 12966\n",
            "23/100 - landmark's id : 13471\n",
            "24/100 - landmark's id : 12718\n",
            "25/100 - landmark's id : 12965\n",
            "26/100 - landmark's id : 13170\n",
            "27/100 - landmark's id : 13444\n",
            "28/100 - landmark's id : 1310\n",
            "29/100 - landmark's id : 13475\n",
            "30/100 - landmark's id : 13332\n",
            "31/100 - landmark's id : 1472\n",
            "32/100 - landmark's id : 1553\n",
            "33/100 - landmark's id : 13653\n",
            "34/100 - landmark's id : 152\n",
            "35/100 - landmark's id : 13526\n",
            "36/100 - landmark's id : 1602\n",
            "37/100 - landmark's id : 13873\n",
            "38/100 - landmark's id : 13594\n",
            "39/100 - landmark's id : 1546\n",
            "40/100 - landmark's id : 13876\n",
            "41/100 - landmark's id : 165\n",
            "42/100 - landmark's id : 2061\n",
            "43/100 - landmark's id : 233\n",
            "44/100 - landmark's id : 2145\n",
            "45/100 - landmark's id : 1946\n",
            "46/100 - landmark's id : 2338\n",
            "47/100 - landmark's id : 1847\n",
            "48/100 - landmark's id : 2044\n",
            "49/100 - landmark's id : 1878\n",
            "50/100 - landmark's id : 2241\n",
            "51/100 - landmark's id : 2743\n",
            "52/100 - landmark's id : 2870\n",
            "53/100 - landmark's id : 3283\n",
            "54/100 - landmark's id : 3065\n",
            "55/100 - landmark's id : 2341\n",
            "56/100 - landmark's id : 3130\n",
            "57/100 - landmark's id : 2444\n",
            "58/100 - landmark's id : 2949\n",
            "59/100 - landmark's id : 3034\n",
            "60/100 - landmark's id : 2449\n",
            "61/100 - landmark's id : 428\n",
            "62/100 - landmark's id : 3497\n",
            "63/100 - landmark's id : 4644\n",
            "64/100 - landmark's id : 3804\n",
            "65/100 - landmark's id : 3426\n",
            "66/100 - landmark's id : 3924\n",
            "67/100 - landmark's id : 4352\n",
            "68/100 - landmark's id : 4085\n",
            "69/100 - landmark's id : 4300\n",
            "70/100 - landmark's id : 4954\n",
            "71/100 - landmark's id : 4987\n",
            "72/100 - landmark's id : 4981\n",
            "73/100 - landmark's id : 5376\n",
            "74/100 - landmark's id : 5367\n",
            "75/100 - landmark's id : 5206\n",
            "76/100 - landmark's id : 5046\n",
            "77/100 - landmark's id : 5475\n",
            "78/100 - landmark's id : 5421\n",
            "79/100 - landmark's id : 5166\n",
            "80/100 - landmark's id : 5460\n",
            "81/100 - landmark's id : 6599\n",
            "82/100 - landmark's id : 6051\n",
            "83/100 - landmark's id : 5554\n",
            "84/100 - landmark's id : 5955\n",
            "85/100 - landmark's id : 6347\n",
            "86/100 - landmark's id : 5618\n",
            "87/100 - landmark's id : 6476\n",
            "88/100 - landmark's id : 6231\n",
            "89/100 - landmark's id : 6597\n",
            "90/100 - landmark's id : 6651\n",
            "91/100 - landmark's id : 7041\n",
            "92/100 - landmark's id : 7000\n",
            "93/100 - landmark's id : 6696\n",
            "94/100 - landmark's id : 6846\n",
            "95/100 - landmark's id : 7092\n",
            "96/100 - landmark's id : 7420\n",
            "97/100 - landmark's id : 7661\n",
            "98/100 - landmark's id : 7130\n",
            "99/100 - landmark's id : 7172\n",
            "100/100 - landmark's id : 7008\n",
            "Done.\n"
          ],
          "name": "stdout"
        }
      ]
    }
  ]
}
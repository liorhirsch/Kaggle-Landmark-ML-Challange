{
  "nbformat": 4,
  "nbformat_minor": 0,
  "metadata": {
    "colab": {
      "name": "Data Statistics.ipynb",
      "version": "0.3.2",
      "provenance": [],
      "collapsed_sections": [],
      "include_colab_link": true
    },
    "kernelspec": {
      "name": "python3",
      "display_name": "Python 3"
    }
  },
  "cells": [
    {
      "cell_type": "markdown",
      "metadata": {
        "id": "view-in-github",
        "colab_type": "text"
      },
      "source": [
        "<a href=\"https://colab.research.google.com/github/liorhirsch/Kaggle-Landmark-ML-Challange/blob/master/Data_Statistics.ipynb\" target=\"_parent\"><img src=\"https://colab.research.google.com/assets/colab-badge.svg\" alt=\"Open In Colab\"/></a>"
      ]
    },
    {
      "metadata": {
        "id": "3wig_SHU6f_Q",
        "colab_type": "code",
        "colab": {
          "base_uri": "https://localhost:8080/",
          "height": 122
        },
        "outputId": "47a8abbd-e95e-4e10-c154-edef5f0cd05a"
      },
      "cell_type": "code",
      "source": [
        "from google.colab import drive\n",
        "drive.mount('/content/drive')"
      ],
      "execution_count": 1,
      "outputs": [
        {
          "output_type": "stream",
          "text": [
            "Go to this URL in a browser: https://accounts.google.com/o/oauth2/auth?client_id=947318989803-6bn6qk8qdgf4n4g3pfee6491hc0brc4i.apps.googleusercontent.com&redirect_uri=urn%3Aietf%3Awg%3Aoauth%3A2.0%3Aoob&scope=email%20https%3A%2F%2Fwww.googleapis.com%2Fauth%2Fdocs.test%20https%3A%2F%2Fwww.googleapis.com%2Fauth%2Fdrive%20https%3A%2F%2Fwww.googleapis.com%2Fauth%2Fdrive.photos.readonly%20https%3A%2F%2Fwww.googleapis.com%2Fauth%2Fpeopleapi.readonly&response_type=code\n",
            "\n",
            "Enter your authorization code:\n",
            "··········\n",
            "Mounted at /content/drive\n"
          ],
          "name": "stdout"
        }
      ]
    },
    {
      "metadata": {
        "id": "erSAsU3N9FfK",
        "colab_type": "code",
        "colab": {}
      },
      "cell_type": "code",
      "source": [
        "\n",
        "import numpy as np\n",
        "import matplotlib.pyplot as plt\n",
        "import os\n",
        "import cv2\n",
        "from joblib import Parallel, delayed\n",
        "import multiprocessing"
      ],
      "execution_count": 0,
      "outputs": []
    },
    {
      "metadata": {
        "id": "EAQPBgSx78cu",
        "colab_type": "code",
        "colab": {
          "base_uri": "https://localhost:8080/",
          "height": 71
        },
        "outputId": "b224b47d-7725-4e0f-9e6c-acde20eda089"
      },
      "cell_type": "code",
      "source": [
        "DATADIR = \"drive/My Drive/photos/\"\n",
        "CATEGORIES =  os.listdir(DATADIR);\n",
        "print(CATEGORIES);\n",
        "print(len(CATEGORIES));\n",
        "\n",
        "categoriesCount={};\n",
        "   \n",
        "def create_training_data(category):\n",
        "    path = os.path.join(DATADIR, category)  # path tolandmark photos    \n",
        "    list = os.listdir(path)    \n",
        "    categoriesCount[category] = len(list);\n",
        "    \n",
        "for category in CATEGORIES:\n",
        "  create_training_data(category);\n",
        "    \n",
        "# Parallel(n_jobs=-1)(delayed(create_training_data)(category) for category in CATEGORIES)"
      ],
      "execution_count": 13,
      "outputs": [
        {
          "output_type": "stream",
          "text": [
            "['10900', '10045', '10577', '10511', '10033', '10026', '10005', '10184', '10496', '10644', '11249', '11784', '12647', '12172', '11536', '12220', '10932', '12676', '11371', '1213', '12972', '12966', '13471', '12718', '12965', '13170', '13444', '1310', '13475', '13332', '1472', '1553', '13653', '152', '13526', '1602', '13873', '13594', '1546', '13876', '165', '2061', '233', '2145', '1946', '2338', '1847', '2044', '1878', '2241', '2743', '2870', '3283', '3065', '2341', '3130', '2444', '2949', '3034', '2449', '428', '3497', '4644', '3804', '3426', '3924', '4352', '4085', '4300', '4954', '4987', '4981', '5376', '5367', '5206', '5046', '5475', '5421', '5166', '5460', '6599', '6051', '5554', '5955', '6347', '5618', '6476', '6231', '6597', '6651', '7041', '7000', '6696', '6846', '7092', '7420', '7661', '7130', '7172', '7008']\n",
            "100\n"
          ],
          "name": "stdout"
        }
      ]
    },
    {
      "metadata": {
        "id": "NAdh8BMG9vdU",
        "colab_type": "code",
        "colab": {
          "base_uri": "https://localhost:8080/",
          "height": 54
        },
        "outputId": "7e740a36-8bde-45aa-a668-f6ba54d1a640"
      },
      "cell_type": "code",
      "source": [
        "print(categoriesCount)"
      ],
      "execution_count": 14,
      "outputs": [
        {
          "output_type": "stream",
          "text": [
            "{'10900': 1443, '10045': 1996, '10577': 1296, '10511': 1530, '10033': 1706, '10026': 2000, '10005': 1063, '10184': 2000, '10496': 1036, '10644': 1061, '11249': 1786, '11784': 2000, '12647': 1077, '12172': 2000, '11536': 1084, '12220': 2000, '10932': 2000, '12676': 1332, '11371': 1639, '1213': 1278, '12972': 1389, '12966': 1082, '13471': 1030, '12718': 2000, '12965': 1046, '13170': 1759, '13444': 1432, '1310': 1105, '13475': 1447, '13332': 1296, '1472': 1449, '1553': 2000, '13653': 1768, '152': 1206, '13526': 2000, '1602': 1502, '13873': 1403, '13594': 1357, '1546': 1179, '13876': 1321, '165': 2223, '2061': 2000, '233': 2213, '2145': 1069, '1946': 1548, '2338': 2448, '1847': 1664, '2044': 1971, '1878': 2000, '2241': 1451, '2743': 290, '2870': 215, '3283': 468, '3065': 216, '2341': 1274, '3130': 1371, '2444': 1400, '2949': 380, '3034': 1038, '2449': 250, '428': 203, '3497': 236, '4644': 372, '3804': 208, '3426': 572, '3924': 284, '4352': 193, '4085': 649, '4300': 212, '4954': 198, '4987': 202, '4981': 184, '5376': 194, '5367': 186, '5206': 193, '5046': 187, '5475': 186, '5421': 184, '5166': 187, '5460': 187, '6599': 181, '6051': 184, '5554': 176, '5955': 182, '6347': 179, '5618': 178, '6476': 184, '6231': 177, '6597': 176, '6651': 176, '7041': 162, '7000': 168, '6696': 161, '6846': 167, '7092': 173, '7420': 172, '7661': 188, '7130': 172, '7172': 167, '7008': 168}\n"
          ],
          "name": "stdout"
        }
      ]
    },
    {
      "metadata": {
        "id": "9gWdPGIn_jyh",
        "colab_type": "code",
        "colab": {}
      },
      "cell_type": "code",
      "source": [
        "import plotly\n",
        "import plotly.plotly as py\n",
        "import plotly.tools as tls\n",
        "\n",
        "import matplotlib.pyplot as plt\n",
        "py.sign_in('liorhirsch', '8ZsS1oshWUdU1TUjISqc')"
      ],
      "execution_count": 0,
      "outputs": []
    },
    {
      "metadata": {
        "id": "AT3b4MZg_p3M",
        "colab_type": "code",
        "colab": {
          "base_uri": "https://localhost:8080/",
          "height": 417
        },
        "outputId": "2899bb2d-a758-4cb2-9e30-6d400a4b32b7"
      },
      "cell_type": "code",
      "source": [
        "dictionary = plt.figure()\n",
        "\n",
        "D = categoriesCount\n",
        "\n",
        "plt.bar(range(len(D)), D.values(), align='center')\n",
        "plt.xticks(range(len(D)), D.keys())\n",
        "\n",
        "plotly_fig = tls.mpl_to_plotly(dictionary)\n",
        "py.iplot(plotly_fig)"
      ],
      "execution_count": 24,
      "outputs": [
        {
          "output_type": "execute_result",
          "data": {
            "text/html": [
              "<iframe id=\"igraph\" scrolling=\"no\" style=\"border:none;\" seamless=\"seamless\" src=\"https://plot.ly/~liorhirsch/2.embed\" height=\"396px\" width=\"576px\"></iframe>"
            ],
            "text/plain": [
              "<plotly.tools.PlotlyDisplay object>"
            ]
          },
          "metadata": {
            "tags": []
          },
          "execution_count": 24
        }
      ]
    },
    {
      "metadata": {
        "id": "FBNPGYGCBp2B",
        "colab_type": "code",
        "colab": {}
      },
      "cell_type": "code",
      "source": [
        "import pandas as pd\n"
      ],
      "execution_count": 0,
      "outputs": []
    },
    {
      "metadata": {
        "id": "gf9x2nNgGbyf",
        "colab_type": "code",
        "colab": {
          "base_uri": "https://localhost:8080/",
          "height": 54
        },
        "outputId": "d856f16a-91f4-4c4a-874c-bbe88cb4e9e4"
      },
      "cell_type": "code",
      "source": [
        "print([a for a, b in categoriesCount.items()])"
      ],
      "execution_count": 32,
      "outputs": [
        {
          "output_type": "stream",
          "text": [
            "['10900', '10045', '10577', '10511', '10033', '10026', '10005', '10184', '10496', '10644', '11249', '11784', '12647', '12172', '11536', '12220', '10932', '12676', '11371', '1213', '12972', '12966', '13471', '12718', '12965', '13170', '13444', '1310', '13475', '13332', '1472', '1553', '13653', '152', '13526', '1602', '13873', '13594', '1546', '13876', '165', '2061', '233', '2145', '1946', '2338', '1847', '2044', '1878', '2241', '2743', '2870', '3283', '3065', '2341', '3130', '2444', '2949', '3034', '2449', '428', '3497', '4644', '3804', '3426', '3924', '4352', '4085', '4300', '4954', '4987', '4981', '5376', '5367', '5206', '5046', '5475', '5421', '5166', '5460', '6599', '6051', '5554', '5955', '6347', '5618', '6476', '6231', '6597', '6651', '7041', '7000', '6696', '6846', '7092', '7420', '7661', '7130', '7172', '7008']\n"
          ],
          "name": "stdout"
        }
      ]
    },
    {
      "metadata": {
        "id": "yr4Gma_5Hob4",
        "colab_type": "code",
        "colab": {
          "base_uri": "https://localhost:8080/",
          "height": 34
        },
        "outputId": "553dee9f-8a98-41f6-93cb-ed91c3958658"
      },
      "cell_type": "code",
      "source": [
        ""
      ],
      "execution_count": 34,
      "outputs": [
        {
          "output_type": "execute_result",
          "data": {
            "text/plain": [
              "array([0.   , 0.155, 0.31 , 0.465, 0.62 , 0.775, 0.93 , 1.085])"
            ]
          },
          "metadata": {
            "tags": []
          },
          "execution_count": 34
        }
      ]
    },
    {
      "metadata": {
        "id": "_ZL76dqwGAy4",
        "colab_type": "code",
        "colab": {}
      },
      "cell_type": "code",
      "source": [
        "df = pd.DataFrame({'key': [category for category, count in categoriesCount.items()],\n",
        "                   'data': [count for category, count in categoriesCount.items()]}, columns=['key', 'data'])\n",
        "ranges=np.arange(0, 3000, 500)\n",
        "groups = df.groupby(pd.cut(df[\"data\"], ranges)).count()"
      ],
      "execution_count": 0,
      "outputs": []
    },
    {
      "metadata": {
        "id": "Qnw3QhwXIXnh",
        "colab_type": "code",
        "colab": {
          "base_uri": "https://localhost:8080/",
          "height": 546
        },
        "outputId": "7f6023dd-ac4c-4f74-dcca-22703ff76728"
      },
      "cell_type": "code",
      "source": [
        "import plotly.graph_objs as go\n",
        "\n",
        "labels = [];\n",
        "\n",
        "for index in range(len(ranges)- 1) :\n",
        "    labels.append(\"{} - {}\".format(ranges[index], ranges[index + 1]))\n",
        "    \n",
        "values = groups[\"data\"].tolist()\n",
        "\n",
        "trace = go.Pie(labels=labels, values=values)\n",
        "\n",
        "py.iplot([trace], filename='basic_pie_chart')"
      ],
      "execution_count": 62,
      "outputs": [
        {
          "output_type": "execute_result",
          "data": {
            "text/html": [
              "<iframe id=\"igraph\" scrolling=\"no\" style=\"border:none;\" seamless=\"seamless\" src=\"https://plot.ly/~liorhirsch/4.embed\" height=\"525px\" width=\"100%\"></iframe>"
            ],
            "text/plain": [
              "<plotly.tools.PlotlyDisplay object>"
            ]
          },
          "metadata": {
            "tags": []
          },
          "execution_count": 62
        }
      ]
    }
  ]
}
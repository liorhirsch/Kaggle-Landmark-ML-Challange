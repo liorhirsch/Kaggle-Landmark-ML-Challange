{
  "nbformat": 4,
  "nbformat_minor": 0,
  "metadata": {
    "colab": {
      "name": "Remove corrupted images from dataset.ipynb",
      "version": "0.3.2",
      "provenance": [],
      "include_colab_link": true
    },
    "kernelspec": {
      "name": "python3",
      "display_name": "Python 3"
    }
  },
  "cells": [
    {
      "cell_type": "markdown",
      "metadata": {
        "id": "view-in-github",
        "colab_type": "text"
      },
      "source": [
        "<a href=\"https://colab.research.google.com/github/liorhirsch/Kaggle-Landmark-ML-Challange/blob/master/Remove_corrupted_images_from_dataset.ipynb\" target=\"_parent\"><img src=\"https://colab.research.google.com/assets/colab-badge.svg\" alt=\"Open In Colab\"/></a>"
      ]
    },
    {
      "metadata": {
        "id": "KPtiNB2qTJv3",
        "colab_type": "code",
        "outputId": "f92b9dbd-3edc-4f83-ac7d-7f2ded6dc3bc",
        "colab": {
          "base_uri": "https://localhost:8080/",
          "height": 121
        }
      },
      "cell_type": "code",
      "source": [
        "from google.colab import drive\n",
        "drive.mount('/content/drive',force_remount=True)"
      ],
      "execution_count": 0,
      "outputs": [
        {
          "output_type": "stream",
          "text": [
            "Go to this URL in a browser: https://accounts.google.com/o/oauth2/auth?client_id=947318989803-6bn6qk8qdgf4n4g3pfee6491hc0brc4i.apps.googleusercontent.com&redirect_uri=urn%3Aietf%3Awg%3Aoauth%3A2.0%3Aoob&scope=email%20https%3A%2F%2Fwww.googleapis.com%2Fauth%2Fdocs.test%20https%3A%2F%2Fwww.googleapis.com%2Fauth%2Fdrive%20https%3A%2F%2Fwww.googleapis.com%2Fauth%2Fdrive.photos.readonly%20https%3A%2F%2Fwww.googleapis.com%2Fauth%2Fpeopleapi.readonly&response_type=code\n",
            "\n",
            "Enter your authorization code:\n",
            "··········\n",
            "Mounted at /content/drive\n"
          ],
          "name": "stdout"
        }
      ]
    },
    {
      "metadata": {
        "id": "Jqv4Yin9TWSd",
        "colab_type": "code",
        "colab": {}
      },
      "cell_type": "code",
      "source": [
        "import numpy as np\n",
        "import matplotlib.pyplot as plt\n",
        "import os\n",
        "import cv2\n",
        "from joblib import Parallel, delayed\n",
        "import multiprocessing\n",
        "from PIL import Image"
      ],
      "execution_count": 0,
      "outputs": []
    },
    {
      "metadata": {
        "id": "BToaaVCzTWlb",
        "colab_type": "code",
        "outputId": "eec0f37c-fd56-402a-8242-d73a63de84d4",
        "colab": {
          "base_uri": "https://localhost:8080/",
          "height": 1798
        }
      },
      "cell_type": "code",
      "source": [
        "DATADIR = \"drive/My Drive/photos/\"\n",
        "CATEGORIES =  os.listdir(DATADIR);\n",
        "\n",
        "\n",
        "print('Found %d categories in : %s' % (len(CATEGORIES), DATADIR))\n",
        "training_data = []\n",
        "IMG_SIZE = 100\n",
        "corrupted = [];\n",
        "\n",
        "already_scanned = ['10900','10045','10577','10511','10033','10026','10005','10184','10496','10644','11249','11784','12647','12172','11536','12220','10932','12676','11371','1213','12972','12966','13471','12718','12965','13170','13444','1310','13475','13332','1472','1553','13653','152','13526','1602','13873','13594','1546','13876','165','2061','233','2145','1946','2338','1847','2044','1878','2241','2743','2870','3283','3065','2341','3130','2444','2949','3034','2449','428','3497','4644','3804','3426','3924','4352','4085','4300','4954','4987','4981','5376','5367','5206','5046','5475','5421','5166','5460','6599','6051','5554','5955','6347','5618','6476','6231','6597','6651','7041','7000','6696','6846','7092','7420','7661','7130','7172','7008']\n",
        "\n",
        "def CheckImagesInFolder(root_dir):\n",
        "    for dirs in os.listdir(root_dir):\n",
        "        dir_location = os.path.join(root_dir, dirs)\n",
        "        currLandmarkId = dir_location.rsplit('/', 2)[-1]\n",
        "        skipCurr =  currLandmarkId in already_scanned\n",
        "          \n",
        "        if os.path.isdir(dir_location): #and not skipCurr:\n",
        "            print(\"scanning in dir %s\", dirs)\n",
        "            images_in_dir = os.listdir(dir_location)\n",
        "            for curr_image in images_in_dir:\n",
        "                curr_image_path = os.path.join(dir_location, curr_image)\n",
        "                try:\n",
        "                    img = Image.open(curr_image_path)  # open the image file\n",
        "                    img.verify()  # verify that it is, in fact an image\n",
        "                except (IOError, SyntaxError) as e:\n",
        "                    print('Bad file:', curr_image_path)  # print out the names of corrupt files\n",
        "                    os.remove(curr_image_path)\n",
        "        print(\"Done with id %s\" % currLandmarkId)\n",
        "    print(\"Done.\")\n",
        "\n",
        "                                        \n",
        "CheckImagesInFolder(DATADIR)"
      ],
      "execution_count": 0,
      "outputs": [
        {
          "output_type": "stream",
          "text": [
            "Found 100 categories in : drive/My Drive/photos/\n",
            "scanning in dir %s 10900\n",
            "Done with id 10900\n",
            "scanning in dir %s 10045\n",
            "Done with id 10045\n",
            "scanning in dir %s 10577\n",
            "Done with id 10577\n",
            "scanning in dir %s 10511\n",
            "Done with id 10511\n",
            "scanning in dir %s 10033\n",
            "Done with id 10033\n",
            "scanning in dir %s 10026\n",
            "Done with id 10026\n",
            "scanning in dir %s 10005\n",
            "Done with id 10005\n",
            "scanning in dir %s 10184\n",
            "Done with id 10184\n",
            "scanning in dir %s 10496\n",
            "Done with id 10496\n",
            "scanning in dir %s 10644\n",
            "Done with id 10644\n",
            "scanning in dir %s 11249\n",
            "Done with id 11249\n",
            "scanning in dir %s 11784\n",
            "Done with id 11784\n",
            "scanning in dir %s 12647\n",
            "Done with id 12647\n",
            "scanning in dir %s 12172\n",
            "Done with id 12172\n",
            "scanning in dir %s 11536\n",
            "Done with id 11536\n",
            "scanning in dir %s 12220\n",
            "Done with id 12220\n",
            "scanning in dir %s 10932\n",
            "Done with id 10932\n",
            "scanning in dir %s 12676\n",
            "Done with id 12676\n",
            "scanning in dir %s 11371\n",
            "Done with id 11371\n",
            "scanning in dir %s 1213\n",
            "Done with id 1213\n",
            "scanning in dir %s 12972\n",
            "Done with id 12972\n",
            "scanning in dir %s 12966\n",
            "Done with id 12966\n",
            "scanning in dir %s 13471\n",
            "Done with id 13471\n",
            "scanning in dir %s 12718\n",
            "Done with id 12718\n",
            "scanning in dir %s 12965\n",
            "Done with id 12965\n",
            "scanning in dir %s 13170\n",
            "Done with id 13170\n",
            "scanning in dir %s 13444\n",
            "Done with id 13444\n",
            "scanning in dir %s 1310\n",
            "Done with id 1310\n",
            "scanning in dir %s 13475\n",
            "Done with id 13475\n",
            "scanning in dir %s 13332\n",
            "Done with id 13332\n",
            "scanning in dir %s 1472\n",
            "Done with id 1472\n",
            "scanning in dir %s 1553\n",
            "Done with id 1553\n",
            "scanning in dir %s 13653\n",
            "Done with id 13653\n",
            "scanning in dir %s 152\n",
            "Done with id 152\n",
            "scanning in dir %s 13526\n",
            "Done with id 13526\n",
            "scanning in dir %s 1602\n",
            "Done with id 1602\n",
            "scanning in dir %s 13873\n",
            "Done with id 13873\n",
            "scanning in dir %s 13594\n",
            "Done with id 13594\n",
            "scanning in dir %s 1546\n",
            "Done with id 1546\n",
            "scanning in dir %s 13876\n",
            "Done with id 13876\n",
            "scanning in dir %s 165\n",
            "Done with id 165\n",
            "scanning in dir %s 2061\n",
            "Done with id 2061\n",
            "scanning in dir %s 233\n",
            "Done with id 233\n",
            "scanning in dir %s 2145\n",
            "Done with id 2145\n",
            "scanning in dir %s 1946\n",
            "Done with id 1946\n",
            "scanning in dir %s 2338\n",
            "Done with id 2338\n",
            "scanning in dir %s 1847\n",
            "Done with id 1847\n",
            "scanning in dir %s 2044\n",
            "Done with id 2044\n",
            "scanning in dir %s 1878\n",
            "Done with id 1878\n",
            "scanning in dir %s 2241\n",
            "Done with id 2241\n",
            "scanning in dir %s 2743\n",
            "Done with id 2743\n",
            "scanning in dir %s 2870\n",
            "Done with id 2870\n",
            "scanning in dir %s 3283\n"
          ],
          "name": "stdout"
        }
      ]
    }
  ]
}
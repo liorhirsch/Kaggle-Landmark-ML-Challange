{
  "nbformat": 4,
  "nbformat_minor": 0,
  "metadata": {
    "colab": {
      "name": "Test_Statistics.ipynb",
      "version": "0.3.2",
      "provenance": [],
      "collapsed_sections": [],
      "include_colab_link": true
    },
    "kernelspec": {
      "name": "python3",
      "display_name": "Python 3"
    }
  },
  "cells": [
    {
      "cell_type": "markdown",
      "metadata": {
        "id": "view-in-github",
        "colab_type": "text"
      },
      "source": [
        "<a href=\"https://colab.research.google.com/github/liorhirsch/Kaggle-Landmark-ML-Challange/blob/master/Test_Statistics.ipynb\" target=\"_parent\"><img src=\"https://colab.research.google.com/assets/colab-badge.svg\" alt=\"Open In Colab\"/></a>"
      ]
    },
    {
      "metadata": {
        "id": "3wig_SHU6f_Q",
        "colab_type": "code",
        "outputId": "89bf8741-1ec9-4a17-ad97-8ce0b7e61569",
        "colab": {
          "base_uri": "https://localhost:8080/",
          "height": 34
        }
      },
      "cell_type": "code",
      "source": [
        "from google.colab import drive\n",
        "drive.mount('/content/drive')"
      ],
      "execution_count": 1,
      "outputs": [
        {
          "output_type": "stream",
          "text": [
            "Drive already mounted at /content/drive; to attempt to forcibly remount, call drive.mount(\"/content/drive\", force_remount=True).\n"
          ],
          "name": "stdout"
        }
      ]
    },
    {
      "metadata": {
        "id": "erSAsU3N9FfK",
        "colab_type": "code",
        "colab": {}
      },
      "cell_type": "code",
      "source": [
        "\n",
        "import numpy as np\n",
        "import matplotlib.pyplot as plt\n",
        "import os\n",
        "import cv2\n",
        "from joblib import Parallel, delayed\n",
        "import multiprocessing"
      ],
      "execution_count": 0,
      "outputs": []
    },
    {
      "metadata": {
        "id": "EAQPBgSx78cu",
        "colab_type": "code",
        "colab": {}
      },
      "cell_type": "code",
      "source": [
        "DATADIR = \"drive/My Drive/test/\"\n",
        "\n",
        "CATEGORIES =  os.listdir(DATADIR);\n",
        "\n",
        "categoriesCount={};\n",
        "   \n",
        "def count_photos_for_each_landmark(category):\n",
        "    path = os.path.join(DATADIR, category)  # path tolandmark photos    \n",
        "    list = os.listdir(path)    \n",
        "    categoriesCount[category] = len(list);\n",
        "    \n",
        "for category in CATEGORIES:\n",
        "  count_photos_for_each_landmark(category);\n",
        "    \n",
        "# Parallel(n_jobs=-1)(delayed(create_training_data)(category) for category in CATEGORIES)"
      ],
      "execution_count": 0,
      "outputs": []
    },
    {
      "metadata": {
        "id": "NAdh8BMG9vdU",
        "colab_type": "code",
        "outputId": "aa648258-2428-44da-e674-770825289e4e",
        "colab": {
          "base_uri": "https://localhost:8080/",
          "height": 54
        }
      },
      "cell_type": "code",
      "source": [
        "print(categoriesCount)"
      ],
      "execution_count": 4,
      "outputs": [
        {
          "output_type": "stream",
          "text": [
            "{'10900': 288, '10045': 399, '10577': 259, '10511': 306, '10033': 341, '10026': 400, '10005': 212, '10184': 400, '10496': 207, '10644': 212, '11249': 357, '11784': 400, '12647': 215, '12172': 400, '11536': 216, '12220': 400, '10932': 400, '12676': 266, '11371': 327, '1213': 255, '12972': 277, '12966': 216, '13471': 206, '12718': 400, '12965': 209, '13170': 351, '13444': 286, '1310': 221, '13475': 289, '13332': 259, '1472': 289, '1553': 400, '13653': 353, '152': 241, '13526': 400, '1602': 300, '13873': 280, '13594': 271, '1546': 235, '13876': 264, '165': 444, '2061': 400, '233': 442, '2145': 213, '1946': 309, '2338': 489, '1847': 332, '2044': 394, '1878': 400, '2241': 290, '2743': 58, '2870': 43, '3283': 93, '3065': 43, '2341': 254, '3130': 274, '2444': 280, '2949': 76, '3034': 207, '2449': 50, '428': 40, '3497': 47, '4644': 74, '3804': 41, '3426': 114, '3924': 56, '4352': 38, '4085': 129, '4300': 42, '4954': 39, '4987': 40, '4981': 36, '5376': 38, '5367': 37, '5206': 38, '5046': 37, '5475': 37, '5421': 36, '5166': 37, '5460': 37, '6599': 36, '6051': 36, '5554': 35, '5955': 36, '6347': 35, '5618': 35, '6476': 36, '6231': 35, '6597': 35, '6651': 35, '7041': 32, '7000': 33, '6696': 32, '6846': 33, '7092': 34, '7420': 34, '7661': 37, '7130': 34, '7172': 33, '7008': 33}\n"
          ],
          "name": "stdout"
        }
      ]
    },
    {
      "metadata": {
        "id": "9gWdPGIn_jyh",
        "colab_type": "code",
        "colab": {}
      },
      "cell_type": "code",
      "source": [
        "import plotly\n",
        "import plotly.plotly as py\n",
        "import plotly.tools as tls\n",
        "\n",
        "import matplotlib.pyplot as plt\n",
        "py.sign_in('liorhirsch', '8ZsS1oshWUdU1TUjISqc')"
      ],
      "execution_count": 0,
      "outputs": []
    },
    {
      "metadata": {
        "id": "AT3b4MZg_p3M",
        "colab_type": "code",
        "outputId": "6a8771d1-b332-47b8-da20-8c5d03e7396d",
        "colab": {
          "base_uri": "https://localhost:8080/",
          "height": 417
        }
      },
      "cell_type": "code",
      "source": [
        "dictionary = plt.figure()\n",
        "\n",
        "D = categoriesCount\n",
        "\n",
        "plt.bar(range(len(D)), D.values(), align='center')\n",
        "plt.xticks(range(len(D)), D.keys())\n",
        "\n",
        "plotly_fig = tls.mpl_to_plotly(dictionary)\n",
        "py.iplot(plotly_fig)"
      ],
      "execution_count": 6,
      "outputs": [
        {
          "output_type": "execute_result",
          "data": {
            "text/html": [
              "<iframe id=\"igraph\" scrolling=\"no\" style=\"border:none;\" seamless=\"seamless\" src=\"https://plot.ly/~liorhirsch/6.embed\" height=\"396px\" width=\"576px\"></iframe>"
            ],
            "text/plain": [
              "<plotly.tools.PlotlyDisplay object>"
            ]
          },
          "metadata": {
            "tags": []
          },
          "execution_count": 6
        }
      ]
    },
    {
      "metadata": {
        "id": "FBNPGYGCBp2B",
        "colab_type": "code",
        "colab": {}
      },
      "cell_type": "code",
      "source": [
        "import pandas as pd\n"
      ],
      "execution_count": 0,
      "outputs": []
    },
    {
      "metadata": {
        "id": "gf9x2nNgGbyf",
        "colab_type": "code",
        "outputId": "0d9b6617-aa04-44ff-83a6-9a17f8dad1f1",
        "colab": {
          "base_uri": "https://localhost:8080/",
          "height": 54
        }
      },
      "cell_type": "code",
      "source": [
        "print([a for a, b in categoriesCount.items()])"
      ],
      "execution_count": 8,
      "outputs": [
        {
          "output_type": "stream",
          "text": [
            "['10900', '10045', '10577', '10511', '10033', '10026', '10005', '10184', '10496', '10644', '11249', '11784', '12647', '12172', '11536', '12220', '10932', '12676', '11371', '1213', '12972', '12966', '13471', '12718', '12965', '13170', '13444', '1310', '13475', '13332', '1472', '1553', '13653', '152', '13526', '1602', '13873', '13594', '1546', '13876', '165', '2061', '233', '2145', '1946', '2338', '1847', '2044', '1878', '2241', '2743', '2870', '3283', '3065', '2341', '3130', '2444', '2949', '3034', '2449', '428', '3497', '4644', '3804', '3426', '3924', '4352', '4085', '4300', '4954', '4987', '4981', '5376', '5367', '5206', '5046', '5475', '5421', '5166', '5460', '6599', '6051', '5554', '5955', '6347', '5618', '6476', '6231', '6597', '6651', '7041', '7000', '6696', '6846', '7092', '7420', '7661', '7130', '7172', '7008']\n"
          ],
          "name": "stdout"
        }
      ]
    },
    {
      "metadata": {
        "id": "yr4Gma_5Hob4",
        "colab_type": "code",
        "colab": {}
      },
      "cell_type": "code",
      "source": [
        ""
      ],
      "execution_count": 0,
      "outputs": []
    },
    {
      "metadata": {
        "id": "_ZL76dqwGAy4",
        "colab_type": "code",
        "colab": {}
      },
      "cell_type": "code",
      "source": [
        "df = pd.DataFrame({'key': [category for category, count in categoriesCount.items()],\n",
        "                   'data': [count for category, count in categoriesCount.items()]}, columns=['key', 'data'])\n",
        "ranges=np.arange(0, 500, 50)\n",
        "groups = df.groupby(pd.cut(df[\"data\"], ranges)).count()"
      ],
      "execution_count": 0,
      "outputs": []
    },
    {
      "metadata": {
        "id": "Qnw3QhwXIXnh",
        "colab_type": "code",
        "outputId": "54b1b515-321c-4f19-a69f-b9749c3ccd5e",
        "colab": {
          "base_uri": "https://localhost:8080/",
          "height": 546
        }
      },
      "cell_type": "code",
      "source": [
        "import plotly.graph_objs as go\n",
        "\n",
        "labels = [];\n",
        "\n",
        "for index in range(len(ranges)- 1) :\n",
        "    labels.append(\"{} - {}\".format(ranges[index], ranges[index + 1]))\n",
        "    \n",
        "values = groups[\"data\"].tolist()\n",
        "\n",
        "trace = go.Pie(labels=labels, values=values)\n",
        "\n",
        "py.iplot([trace], filename='basic_pie_chart')"
      ],
      "execution_count": 12,
      "outputs": [
        {
          "output_type": "execute_result",
          "data": {
            "text/html": [
              "<iframe id=\"igraph\" scrolling=\"no\" style=\"border:none;\" seamless=\"seamless\" src=\"https://plot.ly/~liorhirsch/4.embed\" height=\"525px\" width=\"100%\"></iframe>"
            ],
            "text/plain": [
              "<plotly.tools.PlotlyDisplay object>"
            ]
          },
          "metadata": {
            "tags": []
          },
          "execution_count": 12
        }
      ]
    }
  ]
}
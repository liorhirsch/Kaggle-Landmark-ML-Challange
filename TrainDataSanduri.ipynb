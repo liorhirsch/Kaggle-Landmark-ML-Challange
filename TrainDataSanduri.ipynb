{
  "nbformat": 4,
  "nbformat_minor": 0,
  "metadata": {
    "colab": {
      "name": "TrainData.ipynb",
      "version": "0.3.2",
      "provenance": [],
      "collapsed_sections": [
        "wjYSR_w8gBxb"
      ],
      "include_colab_link": true
    },
    "kernelspec": {
      "name": "python3",
      "display_name": "Python 3"
    },
    "accelerator": "GPU"
  },
  "cells": [
    {
      "cell_type": "markdown",
      "metadata": {
        "id": "view-in-github",
        "colab_type": "text"
      },
      "source": [
        "<a href=\"https://colab.research.google.com/github/liorhirsch/Kaggle-Landmark-ML-Challange/blob/sanduri/TrainDataSanduri.ipynb\" target=\"_parent\"><img src=\"https://colab.research.google.com/assets/colab-badge.svg\" alt=\"Open In Colab\"/></a>"
      ]
    },
    {
      "metadata": {
        "id": "68zTUbJNftdZ",
        "colab_type": "code",
        "colab": {}
      },
      "cell_type": "code",
      "source": [
        ""
      ],
      "execution_count": 0,
      "outputs": []
    },
    {
      "metadata": {
        "id": "wjYSR_w8gBxb",
        "colab_type": "text"
      },
      "cell_type": "markdown",
      "source": [
        "# Upload data from google drive"
      ]
    },
    {
      "metadata": {
        "id": "XM-4Y_2pgGwJ",
        "colab_type": "code",
        "outputId": "4db7954a-9f63-4fbd-9f87-1564bb18545f",
        "colab": {
          "base_uri": "https://localhost:8080/",
          "height": 122
        }
      },
      "cell_type": "code",
      "source": [
        "from google.colab import drive\n",
        "drive.mount('/content/drive',force_remount=True)"
      ],
      "execution_count": 0,
      "outputs": [
        {
          "output_type": "stream",
          "text": [
            "Go to this URL in a browser: https://accounts.google.com/o/oauth2/auth?client_id=947318989803-6bn6qk8qdgf4n4g3pfee6491hc0brc4i.apps.googleusercontent.com&redirect_uri=urn%3Aietf%3Awg%3Aoauth%3A2.0%3Aoob&scope=email%20https%3A%2F%2Fwww.googleapis.com%2Fauth%2Fdocs.test%20https%3A%2F%2Fwww.googleapis.com%2Fauth%2Fdrive%20https%3A%2F%2Fwww.googleapis.com%2Fauth%2Fdrive.photos.readonly%20https%3A%2F%2Fwww.googleapis.com%2Fauth%2Fpeopleapi.readonly&response_type=code\n",
            "\n",
            "Enter your authorization code:\n",
            "··········\n",
            "Mounted at /content/drive\n"
          ],
          "name": "stdout"
        }
      ]
    },
    {
      "metadata": {
        "id": "4qBkLq9PgG5j",
        "colab_type": "code",
        "outputId": "555b2cc4-7b26-48fa-df52-1278775d194f",
        "colab": {
          "base_uri": "https://localhost:8080/",
          "height": 316
        }
      },
      "cell_type": "code",
      "source": [
        "import zipfile\n",
        "with zipfile.ZipFile(\"drive/My Drive/all.zip\", 'r') as zip_ref:\n",
        "    zip_ref.extractall(\"photos\")"
      ],
      "execution_count": 0,
      "outputs": [
        {
          "output_type": "error",
          "ename": "FileNotFoundError",
          "evalue": "ignored",
          "traceback": [
            "\u001b[0;31m---------------------------------------------------------------------------\u001b[0m",
            "\u001b[0;31mFileNotFoundError\u001b[0m                         Traceback (most recent call last)",
            "\u001b[0;32m<ipython-input-1-6d808abb1f26>\u001b[0m in \u001b[0;36m<module>\u001b[0;34m()\u001b[0m\n\u001b[1;32m      1\u001b[0m \u001b[0;32mimport\u001b[0m \u001b[0mzipfile\u001b[0m\u001b[0;34m\u001b[0m\u001b[0;34m\u001b[0m\u001b[0m\n\u001b[0;32m----> 2\u001b[0;31m \u001b[0;32mwith\u001b[0m \u001b[0mzipfile\u001b[0m\u001b[0;34m.\u001b[0m\u001b[0mZipFile\u001b[0m\u001b[0;34m(\u001b[0m\u001b[0;34m\"drive/My Drive/all.zip\"\u001b[0m\u001b[0;34m,\u001b[0m \u001b[0;34m'r'\u001b[0m\u001b[0;34m)\u001b[0m \u001b[0;32mas\u001b[0m \u001b[0mzip_ref\u001b[0m\u001b[0;34m:\u001b[0m\u001b[0;34m\u001b[0m\u001b[0;34m\u001b[0m\u001b[0m\n\u001b[0m\u001b[1;32m      3\u001b[0m     \u001b[0mzip_ref\u001b[0m\u001b[0;34m.\u001b[0m\u001b[0mextractall\u001b[0m\u001b[0;34m(\u001b[0m\u001b[0;34m\"photos\"\u001b[0m\u001b[0;34m)\u001b[0m\u001b[0;34m\u001b[0m\u001b[0;34m\u001b[0m\u001b[0m\n",
            "\u001b[0;32m/usr/lib/python3.6/zipfile.py\u001b[0m in \u001b[0;36m__init__\u001b[0;34m(self, file, mode, compression, allowZip64)\u001b[0m\n\u001b[1;32m   1111\u001b[0m             \u001b[0;32mwhile\u001b[0m \u001b[0;32mTrue\u001b[0m\u001b[0;34m:\u001b[0m\u001b[0;34m\u001b[0m\u001b[0;34m\u001b[0m\u001b[0m\n\u001b[1;32m   1112\u001b[0m                 \u001b[0;32mtry\u001b[0m\u001b[0;34m:\u001b[0m\u001b[0;34m\u001b[0m\u001b[0;34m\u001b[0m\u001b[0m\n\u001b[0;32m-> 1113\u001b[0;31m                     \u001b[0mself\u001b[0m\u001b[0;34m.\u001b[0m\u001b[0mfp\u001b[0m \u001b[0;34m=\u001b[0m \u001b[0mio\u001b[0m\u001b[0;34m.\u001b[0m\u001b[0mopen\u001b[0m\u001b[0;34m(\u001b[0m\u001b[0mfile\u001b[0m\u001b[0;34m,\u001b[0m \u001b[0mfilemode\u001b[0m\u001b[0;34m)\u001b[0m\u001b[0;34m\u001b[0m\u001b[0;34m\u001b[0m\u001b[0m\n\u001b[0m\u001b[1;32m   1114\u001b[0m                 \u001b[0;32mexcept\u001b[0m \u001b[0mOSError\u001b[0m\u001b[0;34m:\u001b[0m\u001b[0;34m\u001b[0m\u001b[0;34m\u001b[0m\u001b[0m\n\u001b[1;32m   1115\u001b[0m                     \u001b[0;32mif\u001b[0m \u001b[0mfilemode\u001b[0m \u001b[0;32min\u001b[0m \u001b[0mmodeDict\u001b[0m\u001b[0;34m:\u001b[0m\u001b[0;34m\u001b[0m\u001b[0;34m\u001b[0m\u001b[0m\n",
            "\u001b[0;31mFileNotFoundError\u001b[0m: [Errno 2] No such file or directory: 'drive/My Drive/all.zip'"
          ]
        }
      ]
    },
    {
      "metadata": {
        "id": "Y8EnxVkGgNqy",
        "colab_type": "text"
      },
      "cell_type": "markdown",
      "source": [
        "# Build training data\n"
      ]
    },
    {
      "metadata": {
        "id": "Njiw9oQjgG83",
        "colab_type": "code",
        "colab": {}
      },
      "cell_type": "code",
      "source": [
        "\n",
        "import numpy as np\n",
        "import matplotlib.pyplot as plt\n",
        "import os\n",
        "import cv2\n",
        "from joblib import Parallel, delayed\n",
        "import multiprocessing"
      ],
      "execution_count": 0,
      "outputs": []
    },
    {
      "metadata": {
        "id": "SiuTfoKxiTHb",
        "colab_type": "text"
      },
      "cell_type": "markdown",
      "source": [
        "**Upload to memory all the photos.**\n",
        "\n",
        "The data will be array of arrays. Each sub-array represents one landmark and will contain tuples of landmark photo and landmark id."
      ]
    },
    {
      "metadata": {
        "id": "qJIgoLh7gRvR",
        "colab_type": "code",
        "colab": {}
      },
      "cell_type": "code",
      "source": [
        "DATADIR = \"photos\"\n",
        "CATEGORIES =  os.listdir(DATADIR);\n",
        "training_data = []\n",
        "IMG_SIZE = 100\n",
        "   \n",
        "def create_training_data(category):\n",
        "    data = []\n",
        "    print(\"Building training data for landmark id %s\" %category);\n",
        "    path = os.path.join(DATADIR, category)  # path tolandmark photos\n",
        "    landmark_id = category\n",
        "    for img in os.listdir(path):\n",
        "        try:\n",
        "            img_array = cv2.imread(os.path.join(path, img), cv2.IMREAD_GRAYSCALE)\n",
        "            new_array = cv2.resize(img_array, (IMG_SIZE, IMG_SIZE))\n",
        "            data.append([new_array, landmark_id])\n",
        "        except Exception as e:\n",
        "            pass   # do nothing\n",
        "    return data;\n",
        "          \n",
        "num_cores = multiprocessing.cpu_count();\n",
        "training_data_nested=Parallel(n_jobs=num_cores)(delayed(create_training_data)(category) for category in CATEGORIES)"
      ],
      "execution_count": 0,
      "outputs": []
    },
    {
      "metadata": {
        "id": "OREutK_Ni_wV",
        "colab_type": "text"
      },
      "cell_type": "markdown",
      "source": [
        "**FlatMap the data.**\n",
        "\n",
        "After this proccess, there will be a list of tuples. each tuple contain image and id of single landmark."
      ]
    },
    {
      "metadata": {
        "id": "m6KKjoAFgRxf",
        "colab_type": "code",
        "colab": {}
      },
      "cell_type": "code",
      "source": [
        "training_data_with_real_ids=[landmark_id_pair for landmark_photos in training_data_nested for landmark_id_pair in landmark_photos]"
      ],
      "execution_count": 0,
      "outputs": []
    },
    {
      "metadata": {
        "id": "zfEyC_JyHyje",
        "colab_type": "text"
      },
      "cell_type": "markdown",
      "source": [
        "**Create new ids for each landmark id**\n",
        "\n",
        "Keras can only work when the last layer of nuerons has the max value of the data id.\n",
        "So, if there is a landmark id that its value is 20000 than, the last layer must have at least 20000 neurons.\n",
        "In order to make the last layer with 100 neurons, we should generate new id for each landmark from 0 to 99.\n"
      ]
    },
    {
      "metadata": {
        "id": "Km8Z_K4gGGnQ",
        "colab_type": "code",
        "colab": {}
      },
      "cell_type": "code",
      "source": [
        "all_keys = [id for image, id in training_data_with_real_ids];\n",
        "unique_keys = set(all_keys);\n",
        "ids_dictionary = {};\n",
        "\n",
        "\n",
        "for idx, curr_id in enumerate(unique_keys):\n",
        "  ids_dictionary[curr_id] = idx\n",
        "  "
      ],
      "execution_count": 0,
      "outputs": []
    },
    {
      "metadata": {
        "id": "Umm8TdTWJw5q",
        "colab_type": "code",
        "outputId": "37e736e9-6994-4c5f-dbac-ec71c03aaeca",
        "colab": {
          "base_uri": "https://localhost:8080/",
          "height": 34
        }
      },
      "cell_type": "code",
      "source": [
        "print(ids_dictionary['11249'])"
      ],
      "execution_count": 0,
      "outputs": [
        {
          "output_type": "stream",
          "text": [
            "51\n"
          ],
          "name": "stdout"
        }
      ]
    },
    {
      "metadata": {
        "id": "Ep4DJt1DIuzA",
        "colab_type": "text"
      },
      "cell_type": "markdown",
      "source": [
        "**Assign new id to each landmark in the training data.**"
      ]
    },
    {
      "metadata": {
        "id": "RKaauSuLIuXQ",
        "colab_type": "code",
        "colab": {}
      },
      "cell_type": "code",
      "source": [
        "training_data = [ [image, ids_dictionary[id] ] for image, id in training_data_with_real_ids]"
      ],
      "execution_count": 0,
      "outputs": []
    },
    {
      "metadata": {
        "id": "lpgV_2fkgR0D",
        "colab_type": "code",
        "colab": {}
      },
      "cell_type": "code",
      "source": [
        "import random\n",
        "\n",
        "random.shuffle(training_data)"
      ],
      "execution_count": 0,
      "outputs": []
    },
    {
      "metadata": {
        "id": "FbnSMmwFjWln",
        "colab_type": "text"
      },
      "cell_type": "markdown",
      "source": [
        "Build the training data as expected to keras library.\n",
        "\n",
        "\n"
      ]
    },
    {
      "metadata": {
        "id": "p0EfStKMgR2L",
        "colab_type": "code",
        "outputId": "fa67e60f-b31e-4d69-f8c8-2c0909c45784",
        "colab": {
          "base_uri": "https://localhost:8080/",
          "height": 34
        }
      },
      "cell_type": "code",
      "source": [
        "X = []\n",
        "y = []\n",
        "\n",
        "for features, label in training_data:\n",
        "    X.append(features)\n",
        "    y.append(int(label))\n",
        "\n",
        "# We need to convert the List of images to a numpy array for Tensorflow\n",
        "# We create a numpy array where the image is in the shape of (50,50,1). 1 since this is a gray scale\n",
        "X = np.array(X).reshape(-1, IMG_SIZE, IMG_SIZE, 1)\n",
        "print(X[0].shape)"
      ],
      "execution_count": 0,
      "outputs": [
        {
          "output_type": "stream",
          "text": [
            "(100, 100, 1)\n"
          ],
          "name": "stdout"
        }
      ]
    },
    {
      "metadata": {
        "id": "7YENKwn2gd7f",
        "colab_type": "text"
      },
      "cell_type": "markdown",
      "source": [
        "# Train"
      ]
    },
    {
      "metadata": {
        "id": "Fj9gq5NfgR41",
        "colab_type": "code",
        "colab": {}
      },
      "cell_type": "code",
      "source": [
        "\n",
        "import tensorflow as tf\n",
        "from tensorflow.keras.models import Sequential\n",
        "from tensorflow.keras.layers import Dense, Dropout, Activation, Flatten, Conv2D, MaxPooling2D, Conv3D\n",
        "from tensorflow.keras.callbacks import TensorBoard, EarlyStopping"
      ],
      "execution_count": 0,
      "outputs": []
    },
    {
      "metadata": {
        "id": "m8F-7H5-jskL",
        "colab_type": "text"
      },
      "cell_type": "markdown",
      "source": [
        "**Normalize the images.**"
      ]
    },
    {
      "metadata": {
        "id": "1QHRjCbcgjCO",
        "colab_type": "code",
        "colab": {}
      },
      "cell_type": "code",
      "source": [
        "X = X/255.0\n"
      ],
      "execution_count": 0,
      "outputs": []
    },
    {
      "metadata": {
        "id": "PwvyevDngjFA",
        "colab_type": "code",
        "colab": {}
      },
      "cell_type": "code",
      "source": [
        "model = Sequential()\n",
        "model.add(Conv2D(64, (3,3), input_shape = X.shape[1:]))\n",
        "model.add(Activation(\"relu\"))\n",
        "model.add(MaxPooling2D(pool_size=(2,2)))\n",
        "\n",
        "model.add(Conv2D(64, (3,3)))\n",
        "model.add(Activation(\"relu\"))\n",
        "model.add(MaxPooling2D(pool_size=(2,2)))\n",
        "\n",
        "#Flatening the data\n",
        "model.add(Flatten())\n",
        "model.add(Dense(150))\n",
        "model.add(Activation(\"relu\"))\n",
        "\n",
        "#output layer\n",
        "model.add(Dense(100))\n",
        "model.add(Activation('softmax'))"
      ],
      "execution_count": 0,
      "outputs": []
    },
    {
      "metadata": {
        "id": "KNr7qLyugjGq",
        "colab_type": "code",
        "outputId": "840756e9-f7f9-41e0-8adc-c2507934d4cf",
        "colab": {
          "base_uri": "https://localhost:8080/",
          "height": 510
        }
      },
      "cell_type": "code",
      "source": [
        "model.summary()\n"
      ],
      "execution_count": 0,
      "outputs": [
        {
          "output_type": "stream",
          "text": [
            "_________________________________________________________________\n",
            "Layer (type)                 Output Shape              Param #   \n",
            "=================================================================\n",
            "conv2d (Conv2D)              (None, 98, 98, 64)        640       \n",
            "_________________________________________________________________\n",
            "activation (Activation)      (None, 98, 98, 64)        0         \n",
            "_________________________________________________________________\n",
            "max_pooling2d (MaxPooling2D) (None, 49, 49, 64)        0         \n",
            "_________________________________________________________________\n",
            "conv2d_1 (Conv2D)            (None, 47, 47, 64)        36928     \n",
            "_________________________________________________________________\n",
            "activation_1 (Activation)    (None, 47, 47, 64)        0         \n",
            "_________________________________________________________________\n",
            "max_pooling2d_1 (MaxPooling2 (None, 23, 23, 64)        0         \n",
            "_________________________________________________________________\n",
            "flatten (Flatten)            (None, 33856)             0         \n",
            "_________________________________________________________________\n",
            "dense (Dense)                (None, 150)               5078550   \n",
            "_________________________________________________________________\n",
            "activation_2 (Activation)    (None, 150)               0         \n",
            "_________________________________________________________________\n",
            "dense_1 (Dense)              (None, 100)               15100     \n",
            "_________________________________________________________________\n",
            "activation_3 (Activation)    (None, 100)               0         \n",
            "=================================================================\n",
            "Total params: 5,131,218\n",
            "Trainable params: 5,131,218\n",
            "Non-trainable params: 0\n",
            "_________________________________________________________________\n"
          ],
          "name": "stdout"
        }
      ]
    },
    {
      "metadata": {
        "id": "oaRupgnwgjIq",
        "colab_type": "code",
        "colab": {}
      },
      "cell_type": "code",
      "source": [
        "adamOptimizer = tf.keras.optimizers.Adam(lr=0.001)\n",
        "\n",
        "model.compile(loss = 'sparse_categorical_crossentropy', \n",
        "             optimizer='adam',\n",
        "             metrics=['accuracy'])\n",
        "\n",
        "# model.compile(loss='categorical_crossentropy', optimizer='adam',\\\n",
        "#  metrics=['accuracy'])"
      ],
      "execution_count": 0,
      "outputs": []
    },
    {
      "metadata": {
        "id": "JAe8BNF6gjKd",
        "colab_type": "code",
        "outputId": "16fa82ce-9668-4e65-e4c0-38a655955959",
        "colab": {
          "base_uri": "https://localhost:8080/",
          "height": 1071
        }
      },
      "cell_type": "code",
      "source": [
        "\n",
        "model.fit(X, y, batch_size=32, epochs = 30, validation_split=0.1)\n",
        "\n",
        "# model.fit(X, y, batch_size=64, epochs=1, verbose=1, \\\n",
        "# validation_split=0.2, shuffle=True)"
      ],
      "execution_count": 0,
      "outputs": [
        {
          "output_type": "stream",
          "text": [
            "Train on 9049 samples, validate on 1006 samples\n",
            "Epoch 1/30\n",
            "9049/9049 [==============================] - 10s 1ms/step - loss: 1.2049 - acc: 0.7001 - val_loss: 4.9783 - val_acc: 0.1660\n",
            "Epoch 2/30\n",
            "9049/9049 [==============================] - 10s 1ms/step - loss: 0.3762 - acc: 0.9125 - val_loss: 6.1722 - val_acc: 0.1700\n",
            "Epoch 3/30\n",
            "9049/9049 [==============================] - 10s 1ms/step - loss: 0.1261 - acc: 0.9752 - val_loss: 7.1375 - val_acc: 0.1670\n",
            "Epoch 4/30\n",
            "9049/9049 [==============================] - 10s 1ms/step - loss: 0.0503 - acc: 0.9939 - val_loss: 7.6738 - val_acc: 0.1640\n",
            "Epoch 5/30\n",
            "9049/9049 [==============================] - 10s 1ms/step - loss: 0.0445 - acc: 0.9938 - val_loss: 8.0054 - val_acc: 0.1581\n",
            "Epoch 6/30\n",
            "9049/9049 [==============================] - 10s 1ms/step - loss: 0.0554 - acc: 0.9896 - val_loss: 7.9130 - val_acc: 0.1521\n",
            "Epoch 7/30\n",
            "9049/9049 [==============================] - 10s 1ms/step - loss: 0.1148 - acc: 0.9708 - val_loss: 7.8337 - val_acc: 0.1521\n",
            "Epoch 8/30\n",
            "9049/9049 [==============================] - 10s 1ms/step - loss: 0.1010 - acc: 0.9756 - val_loss: 8.3258 - val_acc: 0.1531\n",
            "Epoch 9/30\n",
            "9049/9049 [==============================] - 10s 1ms/step - loss: 0.0728 - acc: 0.9838 - val_loss: 8.5298 - val_acc: 0.1600\n",
            "Epoch 10/30\n",
            "9049/9049 [==============================] - 10s 1ms/step - loss: 0.0371 - acc: 0.9923 - val_loss: 8.8633 - val_acc: 0.1481\n",
            "Epoch 11/30\n",
            "9049/9049 [==============================] - 10s 1ms/step - loss: 0.0384 - acc: 0.9910 - val_loss: 8.9104 - val_acc: 0.1441\n",
            "Epoch 12/30\n",
            "9049/9049 [==============================] - 10s 1ms/step - loss: 0.0486 - acc: 0.9891 - val_loss: 8.9792 - val_acc: 0.1362\n",
            "Epoch 13/30\n",
            "9049/9049 [==============================] - 10s 1ms/step - loss: 0.0620 - acc: 0.9860 - val_loss: 8.9289 - val_acc: 0.1521\n",
            "Epoch 14/30\n",
            "9049/9049 [==============================] - 10s 1ms/step - loss: 0.0504 - acc: 0.9885 - val_loss: 9.1979 - val_acc: 0.1501\n",
            "Epoch 15/30\n",
            "9049/9049 [==============================] - 10s 1ms/step - loss: 0.0168 - acc: 0.9966 - val_loss: 9.2679 - val_acc: 0.1581\n",
            "Epoch 16/30\n",
            "9049/9049 [==============================] - 10s 1ms/step - loss: 0.0098 - acc: 0.9988 - val_loss: 9.3816 - val_acc: 0.1600\n",
            "Epoch 17/30\n",
            "9049/9049 [==============================] - 10s 1ms/step - loss: 0.0086 - acc: 0.9988 - val_loss: 9.4520 - val_acc: 0.1650\n",
            "Epoch 18/30\n",
            "9049/9049 [==============================] - 10s 1ms/step - loss: 0.0083 - acc: 0.9989 - val_loss: 9.4571 - val_acc: 0.1640\n",
            "Epoch 19/30\n",
            "9049/9049 [==============================] - 10s 1ms/step - loss: 0.0082 - acc: 0.9988 - val_loss: 9.4864 - val_acc: 0.1640\n",
            "Epoch 20/30\n",
            "9049/9049 [==============================] - 10s 1ms/step - loss: 0.0081 - acc: 0.9989 - val_loss: 9.5466 - val_acc: 0.1630\n",
            "Epoch 21/30\n",
            "9049/9049 [==============================] - 10s 1ms/step - loss: 0.0083 - acc: 0.9988 - val_loss: 9.5617 - val_acc: 0.1640\n",
            "Epoch 22/30\n",
            "9049/9049 [==============================] - 10s 1ms/step - loss: 0.0081 - acc: 0.9988 - val_loss: 9.5507 - val_acc: 0.1620\n",
            "Epoch 23/30\n",
            "9049/9049 [==============================] - 10s 1ms/step - loss: 0.0083 - acc: 0.9989 - val_loss: 9.5928 - val_acc: 0.1620\n",
            "Epoch 24/30\n",
            "9049/9049 [==============================] - 10s 1ms/step - loss: 0.0088 - acc: 0.9989 - val_loss: 9.7310 - val_acc: 0.1640\n",
            "Epoch 25/30\n",
            "9049/9049 [==============================] - 10s 1ms/step - loss: 0.3258 - acc: 0.9168 - val_loss: 9.0701 - val_acc: 0.1322\n",
            "Epoch 26/30\n",
            "9049/9049 [==============================] - 10s 1ms/step - loss: 0.1316 - acc: 0.9655 - val_loss: 8.9672 - val_acc: 0.1382\n",
            "Epoch 27/30\n",
            "9049/9049 [==============================] - 10s 1ms/step - loss: 0.0368 - acc: 0.9917 - val_loss: 9.2042 - val_acc: 0.1342\n",
            "Epoch 28/30\n",
            "9049/9049 [==============================] - 10s 1ms/step - loss: 0.0138 - acc: 0.9976 - val_loss: 9.3493 - val_acc: 0.1511\n",
            "Epoch 29/30\n",
            "9049/9049 [==============================] - 10s 1ms/step - loss: 0.0146 - acc: 0.9975 - val_loss: 9.5869 - val_acc: 0.1362\n",
            "Epoch 30/30\n",
            "9049/9049 [==============================] - 10s 1ms/step - loss: 0.0137 - acc: 0.9977 - val_loss: 9.7023 - val_acc: 0.1342\n"
          ],
          "name": "stdout"
        },
        {
          "output_type": "execute_result",
          "data": {
            "text/plain": [
              "<tensorflow.python.keras.callbacks.History at 0x7f19e2dc4780>"
            ]
          },
          "metadata": {
            "tags": []
          },
          "execution_count": 19
        }
      ]
    },
    {
      "metadata": {
        "id": "g_xQJ64Ngcq9",
        "colab_type": "code",
        "outputId": "29732d2e-b4b7-4b73-fea2-8da6a4931ae5",
        "colab": {
          "base_uri": "https://localhost:8080/",
          "height": 34
        }
      },
      "cell_type": "code",
      "source": [
        "train_loss, train_acc = model.evaluate(X,y)\n"
      ],
      "execution_count": 0,
      "outputs": [
        {
          "output_type": "stream",
          "text": [
            "10055/10055 [==============================] - 4s 390us/step\n"
          ],
          "name": "stdout"
        }
      ]
    },
    {
      "metadata": {
        "id": "fhC4eOeD-ON1",
        "colab_type": "code",
        "outputId": "b2353b62-565d-4a6f-e090-d1c1728470fc",
        "colab": {
          "base_uri": "https://localhost:8080/",
          "height": 51
        }
      },
      "cell_type": "code",
      "source": [
        "print(train_loss)\n",
        "print(train_acc)"
      ],
      "execution_count": 0,
      "outputs": [
        {
          "output_type": "stream",
          "text": [
            "0.9807335368920803\n",
            "0.9118846345190857\n"
          ],
          "name": "stdout"
        }
      ]
    }
  ]
}
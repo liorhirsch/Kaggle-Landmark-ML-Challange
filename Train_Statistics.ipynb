{
  "nbformat": 4,
  "nbformat_minor": 0,
  "metadata": {
    "colab": {
      "name": "Train_Statistics.ipynb",
      "version": "0.3.2",
      "provenance": [],
      "collapsed_sections": [],
      "include_colab_link": true
    },
    "kernelspec": {
      "name": "python3",
      "display_name": "Python 3"
    }
  },
  "cells": [
    {
      "cell_type": "markdown",
      "metadata": {
        "id": "view-in-github",
        "colab_type": "text"
      },
      "source": [
        "<a href=\"https://colab.research.google.com/github/liorhirsch/Kaggle-Landmark-ML-Challange/blob/master/Train_Statistics.ipynb\" target=\"_parent\"><img src=\"https://colab.research.google.com/assets/colab-badge.svg\" alt=\"Open In Colab\"/></a>"
      ]
    },
    {
      "metadata": {
        "id": "3wig_SHU6f_Q",
        "colab_type": "code",
        "colab": {
          "base_uri": "https://localhost:8080/",
          "height": 34
        },
        "outputId": "9a66e176-9714-4bc2-f90b-dc578ab8d28e"
      },
      "cell_type": "code",
      "source": [
        "from google.colab import drive\n",
        "drive.mount('/content/drive')"
      ],
      "execution_count": 72,
      "outputs": [
        {
          "output_type": "stream",
          "text": [
            "Drive already mounted at /content/drive; to attempt to forcibly remount, call drive.mount(\"/content/drive\", force_remount=True).\n"
          ],
          "name": "stdout"
        }
      ]
    },
    {
      "metadata": {
        "id": "erSAsU3N9FfK",
        "colab_type": "code",
        "colab": {}
      },
      "cell_type": "code",
      "source": [
        "\n",
        "import numpy as np\n",
        "import matplotlib.pyplot as plt\n",
        "import os\n",
        "import cv2\n",
        "from joblib import Parallel, delayed\n",
        "import multiprocessing"
      ],
      "execution_count": 0,
      "outputs": []
    },
    {
      "metadata": {
        "id": "EAQPBgSx78cu",
        "colab_type": "code",
        "colab": {}
      },
      "cell_type": "code",
      "source": [
        "DATADIR = \"drive/My Drive/photos/\"\n",
        "\n",
        "CATEGORIES =  os.listdir(DATADIR);\n",
        "\n",
        "categoriesCount={};\n",
        "   \n",
        "def count_photos_for_each_landmark(category):\n",
        "    path = os.path.join(DATADIR, category)  # path tolandmark photos    \n",
        "    list = os.listdir(path)    \n",
        "    categoriesCount[category] = len(list);\n",
        "    \n",
        "for category in CATEGORIES:\n",
        "  count_photos_for_each_landmark(category);\n",
        "    \n",
        "# Parallel(n_jobs=-1)(delayed(create_training_data)(category) for category in CATEGORIES)"
      ],
      "execution_count": 0,
      "outputs": []
    },
    {
      "metadata": {
        "id": "NAdh8BMG9vdU",
        "colab_type": "code",
        "colab": {
          "base_uri": "https://localhost:8080/",
          "height": 54
        },
        "outputId": "27d41741-5b57-404a-80c4-45a460811b32"
      },
      "cell_type": "code",
      "source": [
        "print(categoriesCount)"
      ],
      "execution_count": 75,
      "outputs": [
        {
          "output_type": "stream",
          "text": [
            "{'10900': 1155, '10045': 1597, '10577': 1037, '10511': 1224, '10033': 1365, '10026': 1600, '10005': 851, '10184': 1600, '10496': 829, '10644': 849, '11249': 1429, '11784': 1600, '12647': 862, '12172': 1600, '11536': 868, '12220': 1600, '10932': 1600, '12676': 1066, '11371': 1312, '1213': 1023, '12972': 1112, '12966': 866, '13471': 824, '12718': 1600, '12965': 837, '13170': 1408, '13444': 1146, '1310': 884, '13475': 1158, '13332': 1037, '1472': 1160, '1553': 1600, '13653': 1415, '152': 965, '13526': 1600, '1602': 1202, '13873': 1123, '13594': 1086, '1546': 944, '13876': 1057, '165': 1779, '2061': 1600, '233': 1771, '2145': 856, '1946': 1239, '2338': 1959, '1847': 1332, '2044': 1577, '1878': 1600, '2241': 1161, '2743': 232, '2870': 172, '3283': 375, '3065': 173, '2341': 1020, '3130': 1097, '2444': 1120, '2949': 304, '3034': 831, '2449': 200, '428': 163, '3497': 189, '4644': 298, '3804': 167, '3426': 458, '3924': 228, '4352': 155, '4085': 520, '4300': 170, '4954': 159, '4987': 162, '4981': 148, '5376': 156, '5367': 149, '5206': 155, '5046': 150, '5475': 149, '5421': 148, '5166': 150, '5460': 150, '6599': 145, '6051': 148, '5554': 141, '5955': 146, '6347': 144, '5618': 143, '6476': 148, '6231': 142, '6597': 141, '6651': 141, '7041': 130, '7000': 135, '6696': 129, '6846': 134, '7092': 139, '7420': 138, '7661': 151, '7130': 138, '7172': 134, '7008': 135}\n"
          ],
          "name": "stdout"
        }
      ]
    },
    {
      "metadata": {
        "id": "9gWdPGIn_jyh",
        "colab_type": "code",
        "colab": {}
      },
      "cell_type": "code",
      "source": [
        "import plotly\n",
        "import plotly.plotly as py\n",
        "import plotly.tools as tls\n",
        "\n",
        "import matplotlib.pyplot as plt\n",
        "py.sign_in('liorhirsch', '8ZsS1oshWUdU1TUjISqc')"
      ],
      "execution_count": 0,
      "outputs": []
    },
    {
      "metadata": {
        "id": "AT3b4MZg_p3M",
        "colab_type": "code",
        "colab": {
          "base_uri": "https://localhost:8080/",
          "height": 417
        },
        "outputId": "6d216fd7-a457-4a4c-ef7c-ec8b58b3f73b"
      },
      "cell_type": "code",
      "source": [
        "dictionary = plt.figure()\n",
        "\n",
        "D = categoriesCount\n",
        "\n",
        "plt.bar(range(len(D)), D.values(), align='center')\n",
        "plt.xticks(range(len(D)), D.keys())\n",
        "\n",
        "plotly_fig = tls.mpl_to_plotly(dictionary)\n",
        "py.iplot(plotly_fig)"
      ],
      "execution_count": 77,
      "outputs": [
        {
          "output_type": "execute_result",
          "data": {
            "text/html": [
              "<iframe id=\"igraph\" scrolling=\"no\" style=\"border:none;\" seamless=\"seamless\" src=\"https://plot.ly/~liorhirsch/8.embed\" height=\"396px\" width=\"576px\"></iframe>"
            ],
            "text/plain": [
              "<plotly.tools.PlotlyDisplay object>"
            ]
          },
          "metadata": {
            "tags": []
          },
          "execution_count": 77
        }
      ]
    },
    {
      "metadata": {
        "id": "FBNPGYGCBp2B",
        "colab_type": "code",
        "colab": {}
      },
      "cell_type": "code",
      "source": [
        "import pandas as pd\n"
      ],
      "execution_count": 0,
      "outputs": []
    },
    {
      "metadata": {
        "id": "gf9x2nNgGbyf",
        "colab_type": "code",
        "colab": {
          "base_uri": "https://localhost:8080/",
          "height": 54
        },
        "outputId": "5cbb41fa-d0db-4932-bf44-474faaa7416a"
      },
      "cell_type": "code",
      "source": [
        "print([a for a, b in categoriesCount.items()])"
      ],
      "execution_count": 79,
      "outputs": [
        {
          "output_type": "stream",
          "text": [
            "['10900', '10045', '10577', '10511', '10033', '10026', '10005', '10184', '10496', '10644', '11249', '11784', '12647', '12172', '11536', '12220', '10932', '12676', '11371', '1213', '12972', '12966', '13471', '12718', '12965', '13170', '13444', '1310', '13475', '13332', '1472', '1553', '13653', '152', '13526', '1602', '13873', '13594', '1546', '13876', '165', '2061', '233', '2145', '1946', '2338', '1847', '2044', '1878', '2241', '2743', '2870', '3283', '3065', '2341', '3130', '2444', '2949', '3034', '2449', '428', '3497', '4644', '3804', '3426', '3924', '4352', '4085', '4300', '4954', '4987', '4981', '5376', '5367', '5206', '5046', '5475', '5421', '5166', '5460', '6599', '6051', '5554', '5955', '6347', '5618', '6476', '6231', '6597', '6651', '7041', '7000', '6696', '6846', '7092', '7420', '7661', '7130', '7172', '7008']\n"
          ],
          "name": "stdout"
        }
      ]
    },
    {
      "metadata": {
        "id": "yr4Gma_5Hob4",
        "colab_type": "code",
        "colab": {}
      },
      "cell_type": "code",
      "source": [
        ""
      ],
      "execution_count": 0,
      "outputs": []
    },
    {
      "metadata": {
        "id": "_ZL76dqwGAy4",
        "colab_type": "code",
        "colab": {}
      },
      "cell_type": "code",
      "source": [
        "df = pd.DataFrame({'key': [category for category, count in categoriesCount.items()],\n",
        "                   'data': [count for category, count in categoriesCount.items()]}, columns=['key', 'data'])\n",
        "ranges=np.arange(0, 3000, 500)\n",
        "groups = df.groupby(pd.cut(df[\"data\"], ranges)).count()"
      ],
      "execution_count": 0,
      "outputs": []
    },
    {
      "metadata": {
        "id": "Qnw3QhwXIXnh",
        "colab_type": "code",
        "colab": {
          "base_uri": "https://localhost:8080/",
          "height": 546
        },
        "outputId": "a4c58edd-98c8-4c9c-94dd-d7147d14c040"
      },
      "cell_type": "code",
      "source": [
        "import plotly.graph_objs as go\n",
        "\n",
        "labels = [];\n",
        "\n",
        "for index in range(len(ranges)- 1) :\n",
        "    labels.append(\"{} - {}\".format(ranges[index], ranges[index + 1]))\n",
        "    \n",
        "values = groups[\"data\"].tolist()\n",
        "\n",
        "trace = go.Pie(labels=labels, values=values)\n",
        "\n",
        "py.iplot([trace], filename='basic_pie_chart')"
      ],
      "execution_count": 81,
      "outputs": [
        {
          "output_type": "execute_result",
          "data": {
            "text/html": [
              "<iframe id=\"igraph\" scrolling=\"no\" style=\"border:none;\" seamless=\"seamless\" src=\"https://plot.ly/~liorhirsch/4.embed\" height=\"525px\" width=\"100%\"></iframe>"
            ],
            "text/plain": [
              "<plotly.tools.PlotlyDisplay object>"
            ]
          },
          "metadata": {
            "tags": []
          },
          "execution_count": 81
        }
      ]
    }
  ]
}